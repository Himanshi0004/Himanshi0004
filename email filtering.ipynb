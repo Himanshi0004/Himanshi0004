{
 "cells": [
  {
   "cell_type": "code",
   "execution_count": 1,
   "id": "ea4ca5e7",
   "metadata": {
    "ExecuteTime": {
     "end_time": "2023-08-10T09:23:35.486631Z",
     "start_time": "2023-08-10T09:23:33.044994Z"
    }
   },
   "outputs": [],
   "source": [
    "import pandas as pd \n",
    "import numpy as np"
   ]
  },
  {
   "cell_type": "code",
   "execution_count": 5,
   "id": "91b14bfb",
   "metadata": {
    "ExecuteTime": {
     "end_time": "2023-08-10T09:28:31.950824Z",
     "start_time": "2023-08-10T09:28:31.637591Z"
    }
   },
   "outputs": [
    {
     "data": {
      "text/html": [
       "<div>\n",
       "<style scoped>\n",
       "    .dataframe tbody tr th:only-of-type {\n",
       "        vertical-align: middle;\n",
       "    }\n",
       "\n",
       "    .dataframe tbody tr th {\n",
       "        vertical-align: top;\n",
       "    }\n",
       "\n",
       "    .dataframe thead th {\n",
       "        text-align: right;\n",
       "    }\n",
       "</style>\n",
       "<table border=\"1\" class=\"dataframe\">\n",
       "  <thead>\n",
       "    <tr style=\"text-align: right;\">\n",
       "      <th></th>\n",
       "      <th>Category</th>\n",
       "      <th>Message</th>\n",
       "    </tr>\n",
       "  </thead>\n",
       "  <tbody>\n",
       "    <tr>\n",
       "      <th>0</th>\n",
       "      <td>ham</td>\n",
       "      <td>Go until jurong point, crazy.. Available only ...</td>\n",
       "    </tr>\n",
       "    <tr>\n",
       "      <th>1</th>\n",
       "      <td>ham</td>\n",
       "      <td>Ok lar... Joking wif u oni...</td>\n",
       "    </tr>\n",
       "    <tr>\n",
       "      <th>2</th>\n",
       "      <td>spam</td>\n",
       "      <td>Free entry in 2 a wkly comp to win FA Cup fina...</td>\n",
       "    </tr>\n",
       "    <tr>\n",
       "      <th>3</th>\n",
       "      <td>ham</td>\n",
       "      <td>U dun say so early hor... U c already then say...</td>\n",
       "    </tr>\n",
       "    <tr>\n",
       "      <th>4</th>\n",
       "      <td>ham</td>\n",
       "      <td>Nah I don't think he goes to usf, he lives aro...</td>\n",
       "    </tr>\n",
       "    <tr>\n",
       "      <th>...</th>\n",
       "      <td>...</td>\n",
       "      <td>...</td>\n",
       "    </tr>\n",
       "    <tr>\n",
       "      <th>5567</th>\n",
       "      <td>spam</td>\n",
       "      <td>This is the 2nd time we have tried 2 contact u...</td>\n",
       "    </tr>\n",
       "    <tr>\n",
       "      <th>5568</th>\n",
       "      <td>ham</td>\n",
       "      <td>Will ü b going to esplanade fr home?</td>\n",
       "    </tr>\n",
       "    <tr>\n",
       "      <th>5569</th>\n",
       "      <td>ham</td>\n",
       "      <td>Pity, * was in mood for that. So...any other s...</td>\n",
       "    </tr>\n",
       "    <tr>\n",
       "      <th>5570</th>\n",
       "      <td>ham</td>\n",
       "      <td>The guy did some bitching but I acted like i'd...</td>\n",
       "    </tr>\n",
       "    <tr>\n",
       "      <th>5571</th>\n",
       "      <td>ham</td>\n",
       "      <td>Rofl. Its true to its name</td>\n",
       "    </tr>\n",
       "  </tbody>\n",
       "</table>\n",
       "<p>5572 rows × 2 columns</p>\n",
       "</div>"
      ],
      "text/plain": [
       "     Category                                            Message\n",
       "0         ham  Go until jurong point, crazy.. Available only ...\n",
       "1         ham                      Ok lar... Joking wif u oni...\n",
       "2        spam  Free entry in 2 a wkly comp to win FA Cup fina...\n",
       "3         ham  U dun say so early hor... U c already then say...\n",
       "4         ham  Nah I don't think he goes to usf, he lives aro...\n",
       "...       ...                                                ...\n",
       "5567     spam  This is the 2nd time we have tried 2 contact u...\n",
       "5568      ham               Will ü b going to esplanade fr home?\n",
       "5569      ham  Pity, * was in mood for that. So...any other s...\n",
       "5570      ham  The guy did some bitching but I acted like i'd...\n",
       "5571      ham                         Rofl. Its true to its name\n",
       "\n",
       "[5572 rows x 2 columns]"
      ]
     },
     "execution_count": 5,
     "metadata": {},
     "output_type": "execute_result"
    }
   ],
   "source": [
    "Data=pd.read_csv(\"mail_data.csv\")\n",
    "Data"
   ]
  },
  {
   "cell_type": "code",
   "execution_count": 6,
   "id": "7fe6c111",
   "metadata": {
    "ExecuteTime": {
     "end_time": "2023-08-10T09:28:35.824937Z",
     "start_time": "2023-08-10T09:28:35.803822Z"
    }
   },
   "outputs": [
    {
     "data": {
      "text/html": [
       "<div>\n",
       "<style scoped>\n",
       "    .dataframe tbody tr th:only-of-type {\n",
       "        vertical-align: middle;\n",
       "    }\n",
       "\n",
       "    .dataframe tbody tr th {\n",
       "        vertical-align: top;\n",
       "    }\n",
       "\n",
       "    .dataframe thead th {\n",
       "        text-align: right;\n",
       "    }\n",
       "</style>\n",
       "<table border=\"1\" class=\"dataframe\">\n",
       "  <thead>\n",
       "    <tr style=\"text-align: right;\">\n",
       "      <th></th>\n",
       "      <th>Category</th>\n",
       "      <th>Message</th>\n",
       "    </tr>\n",
       "  </thead>\n",
       "  <tbody>\n",
       "    <tr>\n",
       "      <th>0</th>\n",
       "      <td>ham</td>\n",
       "      <td>Go until jurong point, crazy.. Available only ...</td>\n",
       "    </tr>\n",
       "    <tr>\n",
       "      <th>1</th>\n",
       "      <td>ham</td>\n",
       "      <td>Ok lar... Joking wif u oni...</td>\n",
       "    </tr>\n",
       "    <tr>\n",
       "      <th>2</th>\n",
       "      <td>spam</td>\n",
       "      <td>Free entry in 2 a wkly comp to win FA Cup fina...</td>\n",
       "    </tr>\n",
       "    <tr>\n",
       "      <th>3</th>\n",
       "      <td>ham</td>\n",
       "      <td>U dun say so early hor... U c already then say...</td>\n",
       "    </tr>\n",
       "    <tr>\n",
       "      <th>4</th>\n",
       "      <td>ham</td>\n",
       "      <td>Nah I don't think he goes to usf, he lives aro...</td>\n",
       "    </tr>\n",
       "    <tr>\n",
       "      <th>5</th>\n",
       "      <td>spam</td>\n",
       "      <td>FreeMsg Hey there darling it's been 3 week's n...</td>\n",
       "    </tr>\n",
       "    <tr>\n",
       "      <th>6</th>\n",
       "      <td>ham</td>\n",
       "      <td>Even my brother is not like to speak with me. ...</td>\n",
       "    </tr>\n",
       "    <tr>\n",
       "      <th>7</th>\n",
       "      <td>ham</td>\n",
       "      <td>As per your request 'Melle Melle (Oru Minnamin...</td>\n",
       "    </tr>\n",
       "    <tr>\n",
       "      <th>8</th>\n",
       "      <td>spam</td>\n",
       "      <td>WINNER!! As a valued network customer you have...</td>\n",
       "    </tr>\n",
       "    <tr>\n",
       "      <th>9</th>\n",
       "      <td>spam</td>\n",
       "      <td>Had your mobile 11 months or more? U R entitle...</td>\n",
       "    </tr>\n",
       "  </tbody>\n",
       "</table>\n",
       "</div>"
      ],
      "text/plain": [
       "  Category                                            Message\n",
       "0      ham  Go until jurong point, crazy.. Available only ...\n",
       "1      ham                      Ok lar... Joking wif u oni...\n",
       "2     spam  Free entry in 2 a wkly comp to win FA Cup fina...\n",
       "3      ham  U dun say so early hor... U c already then say...\n",
       "4      ham  Nah I don't think he goes to usf, he lives aro...\n",
       "5     spam  FreeMsg Hey there darling it's been 3 week's n...\n",
       "6      ham  Even my brother is not like to speak with me. ...\n",
       "7      ham  As per your request 'Melle Melle (Oru Minnamin...\n",
       "8     spam  WINNER!! As a valued network customer you have...\n",
       "9     spam  Had your mobile 11 months or more? U R entitle..."
      ]
     },
     "execution_count": 6,
     "metadata": {},
     "output_type": "execute_result"
    }
   ],
   "source": [
    "Data.head(10)"
   ]
  },
  {
   "cell_type": "code",
   "execution_count": 8,
   "id": "0bb68e76",
   "metadata": {
    "ExecuteTime": {
     "end_time": "2023-08-10T09:28:57.344317Z",
     "start_time": "2023-08-10T09:28:57.335396Z"
    }
   },
   "outputs": [
    {
     "data": {
      "text/plain": [
       "(5572, 2)"
      ]
     },
     "execution_count": 8,
     "metadata": {},
     "output_type": "execute_result"
    }
   ],
   "source": [
    "Data.shape"
   ]
  },
  {
   "cell_type": "code",
   "execution_count": 11,
   "id": "4344626b",
   "metadata": {
    "ExecuteTime": {
     "end_time": "2023-08-10T09:29:52.806411Z",
     "start_time": "2023-08-10T09:29:52.777443Z"
    }
   },
   "outputs": [
    {
     "data": {
      "text/plain": [
       "Category    0\n",
       "Message     0\n",
       "dtype: int64"
      ]
     },
     "execution_count": 11,
     "metadata": {},
     "output_type": "execute_result"
    }
   ],
   "source": [
    "Data.isnull().sum()"
   ]
  },
  {
   "cell_type": "code",
   "execution_count": 17,
   "id": "72120853",
   "metadata": {
    "ExecuteTime": {
     "end_time": "2023-08-10T09:36:48.843823Z",
     "start_time": "2023-08-10T09:36:48.832962Z"
    }
   },
   "outputs": [],
   "source": [
    "Data.loc[Data['Category']=='ham', 'Category']=1\n",
    "Data.loc[Data['Category']=='spam', 'Category']=0"
   ]
  },
  {
   "cell_type": "code",
   "execution_count": 18,
   "id": "2930b73e",
   "metadata": {
    "ExecuteTime": {
     "end_time": "2023-08-10T09:37:32.332138Z",
     "start_time": "2023-08-10T09:37:32.269235Z"
    }
   },
   "outputs": [
    {
     "name": "stdout",
     "output_type": "stream",
     "text": [
      "     Category                                            Message\n",
      "0           1  Go until jurong point, crazy.. Available only ...\n",
      "1           1                      Ok lar... Joking wif u oni...\n",
      "2           0  Free entry in 2 a wkly comp to win FA Cup fina...\n",
      "3           1  U dun say so early hor... U c already then say...\n",
      "4           1  Nah I don't think he goes to usf, he lives aro...\n",
      "...       ...                                                ...\n",
      "5567        0  This is the 2nd time we have tried 2 contact u...\n",
      "5568        1               Will ü b going to esplanade fr home?\n",
      "5569        1  Pity, * was in mood for that. So...any other s...\n",
      "5570        1  The guy did some bitching but I acted like i'd...\n",
      "5571        1                         Rofl. Its true to its name\n",
      "\n",
      "[5572 rows x 2 columns]\n"
     ]
    }
   ],
   "source": [
    "print(Data)"
   ]
  },
  {
   "cell_type": "code",
   "execution_count": 26,
   "id": "4d350642",
   "metadata": {
    "ExecuteTime": {
     "end_time": "2023-08-10T09:50:31.403417Z",
     "start_time": "2023-08-10T09:50:31.365479Z"
    }
   },
   "outputs": [],
   "source": [
    "from sklearn.model_selection import train_test_split\n",
    "#training and testing model \n",
    "X=Data['Message']\n",
    "Y=Data['Category']\n",
    "xtrain,xtest,ytrain,ytest=train_test_split(X,Y,test_size=0.2,train_size=0.8,random_state=3)"
   ]
  },
  {
   "cell_type": "code",
   "execution_count": 34,
   "id": "3f9544ce",
   "metadata": {
    "ExecuteTime": {
     "end_time": "2023-08-10T09:59:41.796441Z",
     "start_time": "2023-08-10T09:59:41.776388Z"
    }
   },
   "outputs": [
    {
     "name": "stdout",
     "output_type": "stream",
     "text": [
      "X:\n",
      " 0       Go until jurong point, crazy.. Available only ...\n",
      "1                           Ok lar... Joking wif u oni...\n",
      "2       Free entry in 2 a wkly comp to win FA Cup fina...\n",
      "3       U dun say so early hor... U c already then say...\n",
      "4       Nah I don't think he goes to usf, he lives aro...\n",
      "                              ...                        \n",
      "5567    This is the 2nd time we have tried 2 contact u...\n",
      "5568                 Will ü b going to esplanade fr home?\n",
      "5569    Pity, * was in mood for that. So...any other s...\n",
      "5570    The guy did some bitching but I acted like i'd...\n",
      "5571                           Rofl. Its true to its name\n",
      "Name: Message, Length: 5572, dtype: object\n",
      "Y:\n",
      " 0       1\n",
      "1       1\n",
      "2       0\n",
      "3       1\n",
      "4       1\n",
      "       ..\n",
      "5567    0\n",
      "5568    1\n",
      "5569    1\n",
      "5570    1\n",
      "5571    1\n",
      "Name: Category, Length: 5572, dtype: object\n",
      "xtarin (4457,)\n",
      "ytrain (4457,)\n"
     ]
    }
   ],
   "source": [
    "print(\"X:\\n\",X)\n",
    "print(\"Y:\\n\",Y)\n",
    "print(\"xtarin\",xtrain.shape)\n",
    "print(\"ytrain\",ytrain.shape)"
   ]
  },
  {
   "cell_type": "code",
   "execution_count": 58,
   "id": "c5c25cca",
   "metadata": {
    "ExecuteTime": {
     "end_time": "2023-08-11T06:53:27.143246Z",
     "start_time": "2023-08-11T06:53:26.635007Z"
    }
   },
   "outputs": [],
   "source": [
    "from sklearn.preprocessing import LabelEncoder\n",
    "label_ecncoded=LabelEncoder()\n",
    "ytrain_encoded= label_ecncoded.fit_transform(ytrain)"
   ]
  },
  {
   "cell_type": "code",
   "execution_count": 56,
   "id": "60150efd",
   "metadata": {
    "ExecuteTime": {
     "end_time": "2023-08-11T06:50:54.532878Z",
     "start_time": "2023-08-11T06:50:53.326737Z"
    }
   },
   "outputs": [],
   "source": [
    "#Feature extration \n",
    "from sklearn.feature_extraction.text import TfidfVectorizer\n",
    "Data_feature_exct=TfidfVectorizer(min_df=1,stop_words='english')\n",
    "\n",
    "x_train_feature=Data_feature_exct.fit_transform(xtrain)\n",
    "x_test_feature=Data_feature_exct.transform(xtest)\n",
    "\n",
    "ytrain_type=ytrain.astype(\"int\")\n",
    "ytest_type=ytest.astype(\"int\")"
   ]
  },
  {
   "cell_type": "code",
   "execution_count": 53,
   "id": "eb27f3f8",
   "metadata": {
    "ExecuteTime": {
     "end_time": "2023-08-11T06:45:28.038387Z",
     "start_time": "2023-08-11T06:45:27.768688Z"
    }
   },
   "outputs": [
    {
     "data": {
      "text/plain": [
       "LogisticRegression()"
      ]
     },
     "execution_count": 53,
     "metadata": {},
     "output_type": "execute_result"
    }
   ],
   "source": [
    "from sklearn.linear_model import LogisticRegression\n",
    "from sklearn.metrics import accuracy_score\n",
    "LR_model=LogisticRegression()\n",
    "LR_model"
   ]
  },
  {
   "cell_type": "code",
   "execution_count": 67,
   "id": "ac63513f",
   "metadata": {
    "ExecuteTime": {
     "end_time": "2023-08-11T07:02:33.546448Z",
     "start_time": "2023-08-11T07:02:33.451737Z"
    }
   },
   "outputs": [],
   "source": [
    "LR_model.fit(x_train_feature,ytrain_encoded)\n",
    "y_prediction_encoded=LR_model.predict(x_train_feature)"
   ]
  },
  {
   "cell_type": "code",
   "execution_count": 75,
   "id": "3e04ae62",
   "metadata": {
    "ExecuteTime": {
     "end_time": "2023-08-11T07:07:20.728453Z",
     "start_time": "2023-08-11T07:07:20.690486Z"
    }
   },
   "outputs": [
    {
     "name": "stdout",
     "output_type": "stream",
     "text": [
      "Accuracy: 0.9670181736594121\n"
     ]
    }
   ],
   "source": [
    "# Calculate accuracy\n",
    "accuracy = accuracy_score(ytrain_encoded, y_prediction_encoded)\n",
    "print(\"Accuracy:\", accuracy)"
   ]
  },
  {
   "cell_type": "code",
   "execution_count": 80,
   "id": "0df45607",
   "metadata": {
    "ExecuteTime": {
     "end_time": "2023-08-11T07:14:08.378561Z",
     "start_time": "2023-08-11T07:14:08.307259Z"
    }
   },
   "outputs": [],
   "source": [
    "#lets predict randomly\n",
    "mail=[\"Oh k...i am watching here:\"]\n",
    "extract_mail=Data_feature_exct.transform(mail)\n",
    "prediction= LR_model.predict(extract_mail)\n"
   ]
  },
  {
   "cell_type": "code",
   "execution_count": 82,
   "id": "05409e12",
   "metadata": {
    "ExecuteTime": {
     "end_time": "2023-08-11T07:16:55.752020Z",
     "start_time": "2023-08-11T07:16:55.715140Z"
    }
   },
   "outputs": [
    {
     "name": "stdout",
     "output_type": "stream",
     "text": [
      "HAM_MAIL\n"
     ]
    }
   ],
   "source": [
    "prediction\n",
    "if prediction[0]==1:\n",
    "    print(\"HAM_MAIL\")\n",
    "else:\n",
    "    print(\"SPAM\")"
   ]
  }
 ],
 "metadata": {
  "kernelspec": {
   "display_name": "Python 3",
   "language": "python",
   "name": "python3"
  },
  "language_info": {
   "codemirror_mode": {
    "name": "ipython",
    "version": 3
   },
   "file_extension": ".py",
   "mimetype": "text/x-python",
   "name": "python",
   "nbconvert_exporter": "python",
   "pygments_lexer": "ipython3",
   "version": "3.8.8"
  }
 },
 "nbformat": 4,
 "nbformat_minor": 5
}
