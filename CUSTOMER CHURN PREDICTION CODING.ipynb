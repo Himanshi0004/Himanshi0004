{
 "cells": [
  {
   "cell_type": "code",
   "execution_count": 60,
   "id": "9d5017b2",
   "metadata": {
    "ExecuteTime": {
     "end_time": "2023-08-23T16:59:38.182351Z",
     "start_time": "2023-08-23T16:59:38.158298Z"
    }
   },
   "outputs": [],
   "source": [
    "#Importing Libraries\n",
    "\n",
    "import pandas as pd \n",
    "import numpy as np\n",
    "import seaborn as sns\n",
    "import matplotlib.pyplot as plt\n",
    "from sklearn.model_selection import train_test_split\n",
    "from sklearn.linear_model import LogisticRegression\n",
    "from sklearn.metrics import accuracy_score"
   ]
  },
  {
   "cell_type": "code",
   "execution_count": 61,
   "id": "a070c90b",
   "metadata": {
    "ExecuteTime": {
     "end_time": "2023-08-23T16:59:38.571765Z",
     "start_time": "2023-08-23T16:59:38.184846Z"
    }
   },
   "outputs": [],
   "source": [
    "Data=pd.read_csv('customer_churn_large_dataset.csv')"
   ]
  },
  {
   "cell_type": "code",
   "execution_count": 91,
   "id": "2f428481",
   "metadata": {
    "ExecuteTime": {
     "end_time": "2023-08-23T17:17:44.167395Z",
     "start_time": "2023-08-23T17:17:43.583365Z"
    }
   },
   "outputs": [
    {
     "data": {
      "text/html": [
       "<div>\n",
       "<style scoped>\n",
       "    .dataframe tbody tr th:only-of-type {\n",
       "        vertical-align: middle;\n",
       "    }\n",
       "\n",
       "    .dataframe tbody tr th {\n",
       "        vertical-align: top;\n",
       "    }\n",
       "\n",
       "    .dataframe thead th {\n",
       "        text-align: right;\n",
       "    }\n",
       "</style>\n",
       "<table border=\"1\" class=\"dataframe\">\n",
       "  <thead>\n",
       "    <tr style=\"text-align: right;\">\n",
       "      <th></th>\n",
       "      <th>CustomerID</th>\n",
       "      <th>Name</th>\n",
       "      <th>Age</th>\n",
       "      <th>Gender</th>\n",
       "      <th>Location</th>\n",
       "      <th>Subscription_Length_Months</th>\n",
       "      <th>Monthly_Bill</th>\n",
       "      <th>Total_Usage_GB</th>\n",
       "      <th>Churn</th>\n",
       "      <th>Gender_encoded</th>\n",
       "      <th>Location_encoded</th>\n",
       "    </tr>\n",
       "  </thead>\n",
       "  <tbody>\n",
       "    <tr>\n",
       "      <th>0</th>\n",
       "      <td>1</td>\n",
       "      <td>Customer_1</td>\n",
       "      <td>63</td>\n",
       "      <td>Male</td>\n",
       "      <td>Los Angeles</td>\n",
       "      <td>17</td>\n",
       "      <td>73.36</td>\n",
       "      <td>236</td>\n",
       "      <td>0</td>\n",
       "      <td>1</td>\n",
       "      <td>2</td>\n",
       "    </tr>\n",
       "    <tr>\n",
       "      <th>1</th>\n",
       "      <td>2</td>\n",
       "      <td>Customer_2</td>\n",
       "      <td>62</td>\n",
       "      <td>Female</td>\n",
       "      <td>New York</td>\n",
       "      <td>1</td>\n",
       "      <td>48.76</td>\n",
       "      <td>172</td>\n",
       "      <td>0</td>\n",
       "      <td>0</td>\n",
       "      <td>4</td>\n",
       "    </tr>\n",
       "    <tr>\n",
       "      <th>2</th>\n",
       "      <td>3</td>\n",
       "      <td>Customer_3</td>\n",
       "      <td>24</td>\n",
       "      <td>Female</td>\n",
       "      <td>Los Angeles</td>\n",
       "      <td>5</td>\n",
       "      <td>85.47</td>\n",
       "      <td>460</td>\n",
       "      <td>0</td>\n",
       "      <td>0</td>\n",
       "      <td>2</td>\n",
       "    </tr>\n",
       "    <tr>\n",
       "      <th>3</th>\n",
       "      <td>4</td>\n",
       "      <td>Customer_4</td>\n",
       "      <td>36</td>\n",
       "      <td>Female</td>\n",
       "      <td>Miami</td>\n",
       "      <td>3</td>\n",
       "      <td>97.94</td>\n",
       "      <td>297</td>\n",
       "      <td>1</td>\n",
       "      <td>0</td>\n",
       "      <td>3</td>\n",
       "    </tr>\n",
       "    <tr>\n",
       "      <th>4</th>\n",
       "      <td>5</td>\n",
       "      <td>Customer_5</td>\n",
       "      <td>46</td>\n",
       "      <td>Female</td>\n",
       "      <td>Miami</td>\n",
       "      <td>19</td>\n",
       "      <td>58.14</td>\n",
       "      <td>266</td>\n",
       "      <td>0</td>\n",
       "      <td>0</td>\n",
       "      <td>3</td>\n",
       "    </tr>\n",
       "    <tr>\n",
       "      <th>...</th>\n",
       "      <td>...</td>\n",
       "      <td>...</td>\n",
       "      <td>...</td>\n",
       "      <td>...</td>\n",
       "      <td>...</td>\n",
       "      <td>...</td>\n",
       "      <td>...</td>\n",
       "      <td>...</td>\n",
       "      <td>...</td>\n",
       "      <td>...</td>\n",
       "      <td>...</td>\n",
       "    </tr>\n",
       "    <tr>\n",
       "      <th>99995</th>\n",
       "      <td>99996</td>\n",
       "      <td>Customer_99996</td>\n",
       "      <td>33</td>\n",
       "      <td>Male</td>\n",
       "      <td>Houston</td>\n",
       "      <td>23</td>\n",
       "      <td>55.13</td>\n",
       "      <td>226</td>\n",
       "      <td>1</td>\n",
       "      <td>1</td>\n",
       "      <td>1</td>\n",
       "    </tr>\n",
       "    <tr>\n",
       "      <th>99996</th>\n",
       "      <td>99997</td>\n",
       "      <td>Customer_99997</td>\n",
       "      <td>62</td>\n",
       "      <td>Female</td>\n",
       "      <td>New York</td>\n",
       "      <td>19</td>\n",
       "      <td>61.65</td>\n",
       "      <td>351</td>\n",
       "      <td>0</td>\n",
       "      <td>0</td>\n",
       "      <td>4</td>\n",
       "    </tr>\n",
       "    <tr>\n",
       "      <th>99997</th>\n",
       "      <td>99998</td>\n",
       "      <td>Customer_99998</td>\n",
       "      <td>64</td>\n",
       "      <td>Male</td>\n",
       "      <td>Chicago</td>\n",
       "      <td>17</td>\n",
       "      <td>96.11</td>\n",
       "      <td>251</td>\n",
       "      <td>1</td>\n",
       "      <td>1</td>\n",
       "      <td>0</td>\n",
       "    </tr>\n",
       "    <tr>\n",
       "      <th>99998</th>\n",
       "      <td>99999</td>\n",
       "      <td>Customer_99999</td>\n",
       "      <td>51</td>\n",
       "      <td>Female</td>\n",
       "      <td>New York</td>\n",
       "      <td>20</td>\n",
       "      <td>49.25</td>\n",
       "      <td>434</td>\n",
       "      <td>1</td>\n",
       "      <td>0</td>\n",
       "      <td>4</td>\n",
       "    </tr>\n",
       "    <tr>\n",
       "      <th>99999</th>\n",
       "      <td>100000</td>\n",
       "      <td>Customer_100000</td>\n",
       "      <td>27</td>\n",
       "      <td>Female</td>\n",
       "      <td>Los Angeles</td>\n",
       "      <td>19</td>\n",
       "      <td>76.57</td>\n",
       "      <td>173</td>\n",
       "      <td>1</td>\n",
       "      <td>0</td>\n",
       "      <td>2</td>\n",
       "    </tr>\n",
       "  </tbody>\n",
       "</table>\n",
       "<p>100000 rows × 11 columns</p>\n",
       "</div>"
      ],
      "text/plain": [
       "       CustomerID             Name  Age  Gender     Location  \\\n",
       "0               1       Customer_1   63    Male  Los Angeles   \n",
       "1               2       Customer_2   62  Female     New York   \n",
       "2               3       Customer_3   24  Female  Los Angeles   \n",
       "3               4       Customer_4   36  Female        Miami   \n",
       "4               5       Customer_5   46  Female        Miami   \n",
       "...           ...              ...  ...     ...          ...   \n",
       "99995       99996   Customer_99996   33    Male      Houston   \n",
       "99996       99997   Customer_99997   62  Female     New York   \n",
       "99997       99998   Customer_99998   64    Male      Chicago   \n",
       "99998       99999   Customer_99999   51  Female     New York   \n",
       "99999      100000  Customer_100000   27  Female  Los Angeles   \n",
       "\n",
       "       Subscription_Length_Months  Monthly_Bill  Total_Usage_GB  Churn  \\\n",
       "0                              17         73.36             236      0   \n",
       "1                               1         48.76             172      0   \n",
       "2                               5         85.47             460      0   \n",
       "3                               3         97.94             297      1   \n",
       "4                              19         58.14             266      0   \n",
       "...                           ...           ...             ...    ...   \n",
       "99995                          23         55.13             226      1   \n",
       "99996                          19         61.65             351      0   \n",
       "99997                          17         96.11             251      1   \n",
       "99998                          20         49.25             434      1   \n",
       "99999                          19         76.57             173      1   \n",
       "\n",
       "       Gender_encoded  Location_encoded  \n",
       "0                   1                 2  \n",
       "1                   0                 4  \n",
       "2                   0                 2  \n",
       "3                   0                 3  \n",
       "4                   0                 3  \n",
       "...               ...               ...  \n",
       "99995               1                 1  \n",
       "99996               0                 4  \n",
       "99997               1                 0  \n",
       "99998               0                 4  \n",
       "99999               0                 2  \n",
       "\n",
       "[100000 rows x 11 columns]"
      ]
     },
     "execution_count": 91,
     "metadata": {},
     "output_type": "execute_result"
    }
   ],
   "source": [
    "Data"
   ]
  },
  {
   "cell_type": "code",
   "execution_count": 62,
   "id": "d2580f24",
   "metadata": {
    "ExecuteTime": {
     "end_time": "2023-08-23T16:59:38.745377Z",
     "start_time": "2023-08-23T16:59:38.575768Z"
    }
   },
   "outputs": [
    {
     "name": "stdout",
     "output_type": "stream",
     "text": [
      "<class 'pandas.core.frame.DataFrame'>\n",
      "RangeIndex: 100000 entries, 0 to 99999\n",
      "Data columns (total 9 columns):\n",
      " #   Column                      Non-Null Count   Dtype  \n",
      "---  ------                      --------------   -----  \n",
      " 0   CustomerID                  100000 non-null  int64  \n",
      " 1   Name                        100000 non-null  object \n",
      " 2   Age                         100000 non-null  int64  \n",
      " 3   Gender                      100000 non-null  object \n",
      " 4   Location                    100000 non-null  object \n",
      " 5   Subscription_Length_Months  100000 non-null  int64  \n",
      " 6   Monthly_Bill                100000 non-null  float64\n",
      " 7   Total_Usage_GB              100000 non-null  int64  \n",
      " 8   Churn                       100000 non-null  int64  \n",
      "dtypes: float64(1), int64(5), object(3)\n",
      "memory usage: 6.9+ MB\n"
     ]
    }
   ],
   "source": [
    "Data.info()"
   ]
  },
  {
   "cell_type": "code",
   "execution_count": 63,
   "id": "4a454537",
   "metadata": {
    "ExecuteTime": {
     "end_time": "2023-08-23T16:59:38.776594Z",
     "start_time": "2023-08-23T16:59:38.748163Z"
    }
   },
   "outputs": [
    {
     "data": {
      "text/plain": [
       "(100000, 9)"
      ]
     },
     "execution_count": 63,
     "metadata": {},
     "output_type": "execute_result"
    }
   ],
   "source": [
    "Data.shape"
   ]
  },
  {
   "cell_type": "code",
   "execution_count": 64,
   "id": "5a70e814",
   "metadata": {
    "ExecuteTime": {
     "end_time": "2023-08-23T16:59:39.241784Z",
     "start_time": "2023-08-23T16:59:38.778572Z"
    }
   },
   "outputs": [
    {
     "data": {
      "text/plain": [
       "CustomerID                    0\n",
       "Name                          0\n",
       "Age                           0\n",
       "Gender                        0\n",
       "Location                      0\n",
       "Subscription_Length_Months    0\n",
       "Monthly_Bill                  0\n",
       "Total_Usage_GB                0\n",
       "Churn                         0\n",
       "dtype: int64"
      ]
     },
     "execution_count": 64,
     "metadata": {},
     "output_type": "execute_result"
    }
   ],
   "source": [
    "#Data cleaning\n",
    "\n",
    "Data.isnull().sum()"
   ]
  },
  {
   "cell_type": "code",
   "execution_count": 65,
   "id": "13626678",
   "metadata": {
    "ExecuteTime": {
     "end_time": "2023-08-23T16:59:39.335881Z",
     "start_time": "2023-08-23T16:59:39.243163Z"
    }
   },
   "outputs": [
    {
     "data": {
      "text/plain": [
       "0"
      ]
     },
     "execution_count": 65,
     "metadata": {},
     "output_type": "execute_result"
    }
   ],
   "source": [
    "Data.duplicated().sum()"
   ]
  },
  {
   "cell_type": "code",
   "execution_count": 66,
   "id": "b39eff4b",
   "metadata": {
    "ExecuteTime": {
     "end_time": "2023-08-23T16:59:39.505533Z",
     "start_time": "2023-08-23T16:59:39.337566Z"
    }
   },
   "outputs": [
    {
     "data": {
      "text/html": [
       "<div>\n",
       "<style scoped>\n",
       "    .dataframe tbody tr th:only-of-type {\n",
       "        vertical-align: middle;\n",
       "    }\n",
       "\n",
       "    .dataframe tbody tr th {\n",
       "        vertical-align: top;\n",
       "    }\n",
       "\n",
       "    .dataframe thead th {\n",
       "        text-align: right;\n",
       "    }\n",
       "</style>\n",
       "<table border=\"1\" class=\"dataframe\">\n",
       "  <thead>\n",
       "    <tr style=\"text-align: right;\">\n",
       "      <th></th>\n",
       "      <th>count</th>\n",
       "      <th>mean</th>\n",
       "      <th>std</th>\n",
       "      <th>min</th>\n",
       "      <th>25%</th>\n",
       "      <th>50%</th>\n",
       "      <th>75%</th>\n",
       "      <th>max</th>\n",
       "    </tr>\n",
       "  </thead>\n",
       "  <tbody>\n",
       "    <tr>\n",
       "      <th>CustomerID</th>\n",
       "      <td>100000.0</td>\n",
       "      <td>50000.500000</td>\n",
       "      <td>28867.657797</td>\n",
       "      <td>1.0</td>\n",
       "      <td>25000.75</td>\n",
       "      <td>50000.50</td>\n",
       "      <td>75000.25</td>\n",
       "      <td>100000.0</td>\n",
       "    </tr>\n",
       "    <tr>\n",
       "      <th>Age</th>\n",
       "      <td>100000.0</td>\n",
       "      <td>44.027020</td>\n",
       "      <td>15.280283</td>\n",
       "      <td>18.0</td>\n",
       "      <td>31.00</td>\n",
       "      <td>44.00</td>\n",
       "      <td>57.00</td>\n",
       "      <td>70.0</td>\n",
       "    </tr>\n",
       "    <tr>\n",
       "      <th>Subscription_Length_Months</th>\n",
       "      <td>100000.0</td>\n",
       "      <td>12.490100</td>\n",
       "      <td>6.926461</td>\n",
       "      <td>1.0</td>\n",
       "      <td>6.00</td>\n",
       "      <td>12.00</td>\n",
       "      <td>19.00</td>\n",
       "      <td>24.0</td>\n",
       "    </tr>\n",
       "    <tr>\n",
       "      <th>Monthly_Bill</th>\n",
       "      <td>100000.0</td>\n",
       "      <td>65.053197</td>\n",
       "      <td>20.230696</td>\n",
       "      <td>30.0</td>\n",
       "      <td>47.54</td>\n",
       "      <td>65.01</td>\n",
       "      <td>82.64</td>\n",
       "      <td>100.0</td>\n",
       "    </tr>\n",
       "    <tr>\n",
       "      <th>Total_Usage_GB</th>\n",
       "      <td>100000.0</td>\n",
       "      <td>274.393650</td>\n",
       "      <td>130.463063</td>\n",
       "      <td>50.0</td>\n",
       "      <td>161.00</td>\n",
       "      <td>274.00</td>\n",
       "      <td>387.00</td>\n",
       "      <td>500.0</td>\n",
       "    </tr>\n",
       "    <tr>\n",
       "      <th>Churn</th>\n",
       "      <td>100000.0</td>\n",
       "      <td>0.497790</td>\n",
       "      <td>0.499998</td>\n",
       "      <td>0.0</td>\n",
       "      <td>0.00</td>\n",
       "      <td>0.00</td>\n",
       "      <td>1.00</td>\n",
       "      <td>1.0</td>\n",
       "    </tr>\n",
       "  </tbody>\n",
       "</table>\n",
       "</div>"
      ],
      "text/plain": [
       "                               count          mean           std   min  \\\n",
       "CustomerID                  100000.0  50000.500000  28867.657797   1.0   \n",
       "Age                         100000.0     44.027020     15.280283  18.0   \n",
       "Subscription_Length_Months  100000.0     12.490100      6.926461   1.0   \n",
       "Monthly_Bill                100000.0     65.053197     20.230696  30.0   \n",
       "Total_Usage_GB              100000.0    274.393650    130.463063  50.0   \n",
       "Churn                       100000.0      0.497790      0.499998   0.0   \n",
       "\n",
       "                                 25%       50%       75%       max  \n",
       "CustomerID                  25000.75  50000.50  75000.25  100000.0  \n",
       "Age                            31.00     44.00     57.00      70.0  \n",
       "Subscription_Length_Months      6.00     12.00     19.00      24.0  \n",
       "Monthly_Bill                   47.54     65.01     82.64     100.0  \n",
       "Total_Usage_GB                161.00    274.00    387.00     500.0  \n",
       "Churn                           0.00      0.00      1.00       1.0  "
      ]
     },
     "execution_count": 66,
     "metadata": {},
     "output_type": "execute_result"
    }
   ],
   "source": [
    "Data.describe().T"
   ]
  },
  {
   "cell_type": "code",
   "execution_count": 67,
   "id": "de733d0d",
   "metadata": {
    "ExecuteTime": {
     "end_time": "2023-08-23T16:59:40.384961Z",
     "start_time": "2023-08-23T16:59:39.511038Z"
    }
   },
   "outputs": [
    {
     "data": {
      "image/png": "[encoded data removed]",
      "text/plain": [
       "<Figure size 720x576 with 2 Axes>"
      ]
     },
     "metadata": {
      "needs_background": "light"
     },
     "output_type": "display_data"
    }
   ],
   "source": [
    "#Correlation Matrix\n",
    "\n",
    "corr_matrix = Data.corr()\n",
    "plt.figure(figsize=(10, 8))\n",
    "sns.heatmap(corr_matrix, annot=True, cmap='coolwarm', fmt=\".2f\")\n",
    "plt.title(\"Correlation Matrix\")\n",
    "plt.show()"
   ]
  },
  {
   "cell_type": "code",
   "execution_count": 68,
   "id": "38efa24d",
   "metadata": {
    "ExecuteTime": {
     "end_time": "2023-08-23T16:59:40.462734Z",
     "start_time": "2023-08-23T16:59:40.386963Z"
    }
   },
   "outputs": [],
   "source": [
    "#  function to handle outliers using IQR\n",
    "\n",
    "def handle_outliers_iqr(data, column, lower_bound, upper_bound, method='remove'):\n",
    "    Q1 = np.percentile(data[column], 25)\n",
    "    Q3 = np.percentile(data[column], 75)\n",
    "    IQR = Q3 - Q1\n",
    "    \n",
    "    if method == 'remove':\n",
    "        # Remove outliers\n",
    "        data = data[(data[column] >= Q1 - lower_bound * IQR) & (data[column] <= Q3 + upper_bound * IQR)]\n",
    "    elif method == 'winsorize':\n",
    "        # Winsorize outliers by replacing them with the nearest non-outlier values\n",
    "        data[column] = np.where(data[column] < Q1 - lower_bound * IQR, Q1 - lower_bound * IQR, data[column])\n",
    "        data[column] = np.where(data[column] > Q3 + upper_bound * IQR, Q3 + upper_bound * IQR, data[column])\n",
    "    \n",
    "    return data\n",
    "\n",
    "# lower and upper bounds for the IQR method\n",
    "lower_bound = 1.5\n",
    "upper_bound = 1.5\n",
    "\n",
    "# Specify the column in which you want to handle outliers\n",
    "column_to_handle = 'Monthly_Bill'\n",
    "\n",
    "# Choose the method to handle outliers ('remove' or 'winsorize')\n",
    "method_to_use = 'remove'\n",
    "\n",
    "# Handle outliers\n",
    "Data = handle_outliers_iqr(Data, column_to_handle, lower_bound, upper_bound, method_to_use)\n"
   ]
  },
  {
   "cell_type": "code",
   "execution_count": 69,
   "id": "10487688",
   "metadata": {
    "ExecuteTime": {
     "end_time": "2023-08-23T16:59:40.648961Z",
     "start_time": "2023-08-23T16:59:40.465745Z"
    }
   },
   "outputs": [
    {
     "data": {
      "image/png": "[encoded data removed]",
      "text/plain": [
       "<Figure size 432x288 with 1 Axes>"
      ]
     },
     "metadata": {
      "needs_background": "light"
     },
     "output_type": "display_data"
    }
   ],
   "source": [
    "# Visualize of data after handling outliers\n",
    "plt.subplot(1, 2, 2)\n",
    "sns.boxplot(x=Data[column_to_handle])\n",
    "plt.title('After Outlier Handling')\n",
    "\n",
    "plt.tight_layout()\n",
    "plt.show()"
   ]
  },
  {
   "cell_type": "code",
   "execution_count": 70,
   "id": "820df65a",
   "metadata": {
    "ExecuteTime": {
     "end_time": "2023-08-23T16:59:46.829969Z",
     "start_time": "2023-08-23T16:59:40.651962Z"
    }
   },
   "outputs": [
    {
     "data": {
      "image/png": "[encoded data removed]",
      "text/plain": [
       "<Figure size 864x576 with 16 Axes>"
      ]
     },
     "metadata": {
      "needs_background": "light"
     },
     "output_type": "display_data"
    }
   ],
   "source": [
    "#Scatter matrix plot\n",
    "\n",
    "from pandas.plotting import scatter_matrix\n",
    "scatter_matrix(Data[['Age', 'Monthly_Bill', 'Total_Usage_GB', 'Churn']], figsize=(12, 8), diagonal='hist')\n",
    "plt.show()"
   ]
  },
  {
   "cell_type": "code",
   "execution_count": 71,
   "id": "5674b363",
   "metadata": {
    "ExecuteTime": {
     "end_time": "2023-08-23T16:59:46.938438Z",
     "start_time": "2023-08-23T16:59:46.835083Z"
    }
   },
   "outputs": [
    {
     "name": "stdout",
     "output_type": "stream",
     "text": [
      "       CustomerID             Name  Age  Gender_encoded  Location_encoded\n",
      "0               1       Customer_1   63               1                 2\n",
      "1               2       Customer_2   62               0                 4\n",
      "2               3       Customer_3   24               0                 2\n",
      "3               4       Customer_4   36               0                 3\n",
      "4               5       Customer_5   46               0                 3\n",
      "...           ...              ...  ...             ...               ...\n",
      "99995       99996   Customer_99996   33               1                 1\n",
      "99996       99997   Customer_99997   62               0                 4\n",
      "99997       99998   Customer_99998   64               1                 0\n",
      "99998       99999   Customer_99999   51               0                 4\n",
      "99999      100000  Customer_100000   27               0                 2\n",
      "\n",
      "[100000 rows x 5 columns]\n"
     ]
    },
    {
     "data": {
      "text/html": [
       "<div>\n",
       "<style scoped>\n",
       "    .dataframe tbody tr th:only-of-type {\n",
       "        vertical-align: middle;\n",
       "    }\n",
       "\n",
       "    .dataframe tbody tr th {\n",
       "        vertical-align: top;\n",
       "    }\n",
       "\n",
       "    .dataframe thead th {\n",
       "        text-align: right;\n",
       "    }\n",
       "</style>\n",
       "<table border=\"1\" class=\"dataframe\">\n",
       "  <thead>\n",
       "    <tr style=\"text-align: right;\">\n",
       "      <th></th>\n",
       "      <th>CustomerID</th>\n",
       "      <th>Name</th>\n",
       "      <th>Age</th>\n",
       "      <th>Gender</th>\n",
       "      <th>Location</th>\n",
       "      <th>Subscription_Length_Months</th>\n",
       "      <th>Monthly_Bill</th>\n",
       "      <th>Total_Usage_GB</th>\n",
       "      <th>Churn</th>\n",
       "      <th>Gender_encoded</th>\n",
       "      <th>Location_encoded</th>\n",
       "    </tr>\n",
       "  </thead>\n",
       "  <tbody>\n",
       "    <tr>\n",
       "      <th>0</th>\n",
       "      <td>1</td>\n",
       "      <td>Customer_1</td>\n",
       "      <td>63</td>\n",
       "      <td>Male</td>\n",
       "      <td>Los Angeles</td>\n",
       "      <td>17</td>\n",
       "      <td>73.36</td>\n",
       "      <td>236</td>\n",
       "      <td>0</td>\n",
       "      <td>1</td>\n",
       "      <td>2</td>\n",
       "    </tr>\n",
       "    <tr>\n",
       "      <th>1</th>\n",
       "      <td>2</td>\n",
       "      <td>Customer_2</td>\n",
       "      <td>62</td>\n",
       "      <td>Female</td>\n",
       "      <td>New York</td>\n",
       "      <td>1</td>\n",
       "      <td>48.76</td>\n",
       "      <td>172</td>\n",
       "      <td>0</td>\n",
       "      <td>0</td>\n",
       "      <td>4</td>\n",
       "    </tr>\n",
       "    <tr>\n",
       "      <th>2</th>\n",
       "      <td>3</td>\n",
       "      <td>Customer_3</td>\n",
       "      <td>24</td>\n",
       "      <td>Female</td>\n",
       "      <td>Los Angeles</td>\n",
       "      <td>5</td>\n",
       "      <td>85.47</td>\n",
       "      <td>460</td>\n",
       "      <td>0</td>\n",
       "      <td>0</td>\n",
       "      <td>2</td>\n",
       "    </tr>\n",
       "    <tr>\n",
       "      <th>3</th>\n",
       "      <td>4</td>\n",
       "      <td>Customer_4</td>\n",
       "      <td>36</td>\n",
       "      <td>Female</td>\n",
       "      <td>Miami</td>\n",
       "      <td>3</td>\n",
       "      <td>97.94</td>\n",
       "      <td>297</td>\n",
       "      <td>1</td>\n",
       "      <td>0</td>\n",
       "      <td>3</td>\n",
       "    </tr>\n",
       "    <tr>\n",
       "      <th>4</th>\n",
       "      <td>5</td>\n",
       "      <td>Customer_5</td>\n",
       "      <td>46</td>\n",
       "      <td>Female</td>\n",
       "      <td>Miami</td>\n",
       "      <td>19</td>\n",
       "      <td>58.14</td>\n",
       "      <td>266</td>\n",
       "      <td>0</td>\n",
       "      <td>0</td>\n",
       "      <td>3</td>\n",
       "    </tr>\n",
       "    <tr>\n",
       "      <th>...</th>\n",
       "      <td>...</td>\n",
       "      <td>...</td>\n",
       "      <td>...</td>\n",
       "      <td>...</td>\n",
       "      <td>...</td>\n",
       "      <td>...</td>\n",
       "      <td>...</td>\n",
       "      <td>...</td>\n",
       "      <td>...</td>\n",
       "      <td>...</td>\n",
       "      <td>...</td>\n",
       "    </tr>\n",
       "    <tr>\n",
       "      <th>99995</th>\n",
       "      <td>99996</td>\n",
       "      <td>Customer_99996</td>\n",
       "      <td>33</td>\n",
       "      <td>Male</td>\n",
       "      <td>Houston</td>\n",
       "      <td>23</td>\n",
       "      <td>55.13</td>\n",
       "      <td>226</td>\n",
       "      <td>1</td>\n",
       "      <td>1</td>\n",
       "      <td>1</td>\n",
       "    </tr>\n",
       "    <tr>\n",
       "      <th>99996</th>\n",
       "      <td>99997</td>\n",
       "      <td>Customer_99997</td>\n",
       "      <td>62</td>\n",
       "      <td>Female</td>\n",
       "      <td>New York</td>\n",
       "      <td>19</td>\n",
       "      <td>61.65</td>\n",
       "      <td>351</td>\n",
       "      <td>0</td>\n",
       "      <td>0</td>\n",
       "      <td>4</td>\n",
       "    </tr>\n",
       "    <tr>\n",
       "      <th>99997</th>\n",
       "      <td>99998</td>\n",
       "      <td>Customer_99998</td>\n",
       "      <td>64</td>\n",
       "      <td>Male</td>\n",
       "      <td>Chicago</td>\n",
       "      <td>17</td>\n",
       "      <td>96.11</td>\n",
       "      <td>251</td>\n",
       "      <td>1</td>\n",
       "      <td>1</td>\n",
       "      <td>0</td>\n",
       "    </tr>\n",
       "    <tr>\n",
       "      <th>99998</th>\n",
       "      <td>99999</td>\n",
       "      <td>Customer_99999</td>\n",
       "      <td>51</td>\n",
       "      <td>Female</td>\n",
       "      <td>New York</td>\n",
       "      <td>20</td>\n",
       "      <td>49.25</td>\n",
       "      <td>434</td>\n",
       "      <td>1</td>\n",
       "      <td>0</td>\n",
       "      <td>4</td>\n",
       "    </tr>\n",
       "    <tr>\n",
       "      <th>99999</th>\n",
       "      <td>100000</td>\n",
       "      <td>Customer_100000</td>\n",
       "      <td>27</td>\n",
       "      <td>Female</td>\n",
       "      <td>Los Angeles</td>\n",
       "      <td>19</td>\n",
       "      <td>76.57</td>\n",
       "      <td>173</td>\n",
       "      <td>1</td>\n",
       "      <td>0</td>\n",
       "      <td>2</td>\n",
       "    </tr>\n",
       "  </tbody>\n",
       "</table>\n",
       "<p>100000 rows × 11 columns</p>\n",
       "</div>"
      ],
      "text/plain": [
       "       CustomerID             Name  Age  Gender     Location  \\\n",
       "0               1       Customer_1   63    Male  Los Angeles   \n",
       "1               2       Customer_2   62  Female     New York   \n",
       "2               3       Customer_3   24  Female  Los Angeles   \n",
       "3               4       Customer_4   36  Female        Miami   \n",
       "4               5       Customer_5   46  Female        Miami   \n",
       "...           ...              ...  ...     ...          ...   \n",
       "99995       99996   Customer_99996   33    Male      Houston   \n",
       "99996       99997   Customer_99997   62  Female     New York   \n",
       "99997       99998   Customer_99998   64    Male      Chicago   \n",
       "99998       99999   Customer_99999   51  Female     New York   \n",
       "99999      100000  Customer_100000   27  Female  Los Angeles   \n",
       "\n",
       "       Subscription_Length_Months  Monthly_Bill  Total_Usage_GB  Churn  \\\n",
       "0                              17         73.36             236      0   \n",
       "1                               1         48.76             172      0   \n",
       "2                               5         85.47             460      0   \n",
       "3                               3         97.94             297      1   \n",
       "4                              19         58.14             266      0   \n",
       "...                           ...           ...             ...    ...   \n",
       "99995                          23         55.13             226      1   \n",
       "99996                          19         61.65             351      0   \n",
       "99997                          17         96.11             251      1   \n",
       "99998                          20         49.25             434      1   \n",
       "99999                          19         76.57             173      1   \n",
       "\n",
       "       Gender_encoded  Location_encoded  \n",
       "0                   1                 2  \n",
       "1                   0                 4  \n",
       "2                   0                 2  \n",
       "3                   0                 3  \n",
       "4                   0                 3  \n",
       "...               ...               ...  \n",
       "99995               1                 1  \n",
       "99996               0                 4  \n",
       "99997               1                 0  \n",
       "99998               0                 4  \n",
       "99999               0                 2  \n",
       "\n",
       "[100000 rows x 11 columns]"
      ]
     },
     "execution_count": 71,
     "metadata": {},
     "output_type": "execute_result"
    }
   ],
   "source": [
    "#ENCODING CATEGORICAL VARIABLES\n",
    "\n",
    "from sklearn.preprocessing import LabelEncoder\n",
    "L_Encoder=LabelEncoder()\n",
    "Data['Gender_encoded'] = L_Encoder.fit_transform(Data['Gender'])\n",
    "Data['Location_encoded'] = L_Encoder.fit_transform(Data['Location'])\n",
    "print(Data[['CustomerID', 'Name', 'Age', 'Gender_encoded', 'Location_encoded']])\n",
    "Data"
   ]
  },
  {
   "cell_type": "code",
   "execution_count": 72,
   "id": "a004b98b",
   "metadata": {
    "ExecuteTime": {
     "end_time": "2023-08-23T16:59:46.969800Z",
     "start_time": "2023-08-23T16:59:46.940437Z"
    }
   },
   "outputs": [
    {
     "data": {
      "text/plain": [
       "0    50221\n",
       "1    49779\n",
       "Name: Churn, dtype: int64"
      ]
     },
     "execution_count": 72,
     "metadata": {},
     "output_type": "execute_result"
    }
   ],
   "source": [
    "Data['Churn'].value_counts()"
   ]
  },
  {
   "cell_type": "code",
   "execution_count": 87,
   "id": "b38701ec",
   "metadata": {
    "ExecuteTime": {
     "end_time": "2023-08-23T17:09:11.142712Z",
     "start_time": "2023-08-23T17:09:10.354261Z"
    }
   },
   "outputs": [
    {
     "name": "stdout",
     "output_type": "stream",
     "text": [
      "Customer with Highest Subscription Length:\n",
      "Name                          Customer_54\n",
      "Subscription_Length_Months             24\n",
      "Name: 53, dtype: object\n"
     ]
    }
   ],
   "source": [
    "# the customer with the highest subscription length\n",
    "customer_with_highest_subscription = Data.loc[Data['Subscription_Length_Months'].idxmax()]\n",
    "\n",
    "# Print the customer's information\n",
    "print(\"Customer with Highest Subscription Length:\")\n",
    "print(customer_with_highest_subscription[['Name', 'Subscription_Length_Months']])\n"
   ]
  },
  {
   "cell_type": "code",
   "execution_count": 89,
   "id": "22fa118e",
   "metadata": {
    "ExecuteTime": {
     "end_time": "2023-08-23T17:11:54.690455Z",
     "start_time": "2023-08-23T17:11:54.667178Z"
    }
   },
   "outputs": [
    {
     "name": "stdout",
     "output_type": "stream",
     "text": [
      "Number of Males: 49784\n",
      "Number of Females: 50216\n"
     ]
    }
   ],
   "source": [
    "# Count the number of males and females\n",
    "gender_counts = Data['Gender'].value_counts()\n",
    "\n",
    "male_count = gender_counts['Male']\n",
    "female_count = gender_counts['Female']\n",
    "\n",
    "# Print the counts and ratio\n",
    "print(\"Number of Males:\", male_count)\n",
    "print(\"Number of Females:\", female_count)\n"
   ]
  },
  {
   "cell_type": "code",
   "execution_count": 90,
   "id": "7fed28ed",
   "metadata": {
    "ExecuteTime": {
     "end_time": "2023-08-23T17:11:58.394678Z",
     "start_time": "2023-08-23T17:11:57.800431Z"
    }
   },
   "outputs": [
    {
     "data": {
      "image/png": "[encoded data removed]",
      "text/plain": [
       "<Figure size 432x432 with 1 Axes>"
      ]
     },
     "metadata": {},
     "output_type": "display_data"
    }
   ],
   "source": [
    "# Visulizing with pie chart\n",
    "plt.figure(figsize=(6, 6))\n",
    "plt.pie(gender_counts, labels=gender_counts.index, autopct='%1.1f%%', startangle=140)\n",
    "plt.title('Ratio of Males to Females Taking the Service')\n",
    "\n",
    "plt.axis('equal')\n",
    "plt.show()\n"
   ]
  },
  {
   "cell_type": "code",
   "execution_count": 73,
   "id": "d8931c80",
   "metadata": {
    "ExecuteTime": {
     "end_time": "2023-08-23T16:59:47.079959Z",
     "start_time": "2023-08-23T16:59:46.972355Z"
    }
   },
   "outputs": [
    {
     "name": "stdout",
     "output_type": "stream",
     "text": [
      "X_train shape: (80000, 6)\n",
      "X_test shape: (20000, 6)\n",
      "y_train shape: (80000, 1)\n",
      "y_test shape: (20000, 1)\n"
     ]
    }
   ],
   "source": [
    "#Split data in test and train set\n",
    "\n",
    "X=Data[['Age', 'Gender_encoded', 'Location_encoded', 'Subscription_Length_Months', 'Monthly_Bill', 'Total_Usage_GB']]\n",
    "Y=Data[['Churn']]\n",
    "\n",
    "X_train, X_test, y_train, y_test = train_test_split(X, Y, test_size=0.2, random_state=42)\n",
    "\n",
    "#Scaling the values\n",
    "\n",
    "from sklearn.preprocessing import StandardScaler\n",
    "S_scaler = StandardScaler()\n",
    "X_train=S_scaler.fit_transform(X_train)\n",
    "X_test=S_scaler.fit_transform(X_test)\n",
    "\n",
    "# Print the shapes of the resulting sets to verify the split\n",
    "print(\"X_train shape:\", X_train.shape)\n",
    "print(\"X_test shape:\", X_test.shape)\n",
    "print(\"y_train shape:\", y_train.shape)\n",
    "print(\"y_test shape:\", y_test.shape)\n",
    "\n"
   ]
  },
  {
   "cell_type": "code",
   "execution_count": 74,
   "id": "9ca689f0",
   "metadata": {
    "ExecuteTime": {
     "end_time": "2023-08-23T16:59:47.101205Z",
     "start_time": "2023-08-23T16:59:47.084272Z"
    }
   },
   "outputs": [
    {
     "name": "stdout",
     "output_type": "stream",
     "text": [
      "       Age  Gender_encoded  Location_encoded  Subscription_Length_Months  \\\n",
      "0       63               1                 2                          17   \n",
      "1       62               0                 4                           1   \n",
      "2       24               0                 2                           5   \n",
      "3       36               0                 3                           3   \n",
      "4       46               0                 3                          19   \n",
      "...    ...             ...               ...                         ...   \n",
      "99995   33               1                 1                          23   \n",
      "99996   62               0                 4                          19   \n",
      "99997   64               1                 0                          17   \n",
      "99998   51               0                 4                          20   \n",
      "99999   27               0                 2                          19   \n",
      "\n",
      "       Monthly_Bill  Total_Usage_GB  \n",
      "0             73.36             236  \n",
      "1             48.76             172  \n",
      "2             85.47             460  \n",
      "3             97.94             297  \n",
      "4             58.14             266  \n",
      "...             ...             ...  \n",
      "99995         55.13             226  \n",
      "99996         61.65             351  \n",
      "99997         96.11             251  \n",
      "99998         49.25             434  \n",
      "99999         76.57             173  \n",
      "\n",
      "[100000 rows x 6 columns]\n"
     ]
    }
   ],
   "source": [
    "print(X)"
   ]
  },
  {
   "cell_type": "code",
   "execution_count": 75,
   "id": "f35d8e00",
   "metadata": {
    "ExecuteTime": {
     "end_time": "2023-08-23T16:59:47.142519Z",
     "start_time": "2023-08-23T16:59:47.108204Z"
    }
   },
   "outputs": [
    {
     "name": "stdout",
     "output_type": "stream",
     "text": [
      "       Churn\n",
      "0          0\n",
      "1          0\n",
      "2          0\n",
      "3          1\n",
      "4          0\n",
      "...      ...\n",
      "99995      1\n",
      "99996      0\n",
      "99997      1\n",
      "99998      1\n",
      "99999      1\n",
      "\n",
      "[100000 rows x 1 columns]\n"
     ]
    }
   ],
   "source": [
    "print(Y)"
   ]
  },
  {
   "cell_type": "code",
   "execution_count": 76,
   "id": "4400e8fc",
   "metadata": {
    "ExecuteTime": {
     "end_time": "2023-08-23T16:59:47.158475Z",
     "start_time": "2023-08-23T16:59:47.144382Z"
    }
   },
   "outputs": [],
   "source": [
    "#Model Building\n",
    "\n",
    "Model= LogisticRegression()"
   ]
  },
  {
   "cell_type": "code",
   "execution_count": 77,
   "id": "44e662a6",
   "metadata": {
    "ExecuteTime": {
     "end_time": "2023-08-23T16:59:47.331905Z",
     "start_time": "2023-08-23T16:59:47.159958Z"
    }
   },
   "outputs": [
    {
     "name": "stderr",
     "output_type": "stream",
     "text": [
      "C:\\Users\\dell\\anaconda3\\lib\\site-packages\\sklearn\\utils\\validation.py:63: DataConversionWarning: A column-vector y was passed when a 1d array was expected. Please change the shape of y to (n_samples, ), for example using ravel().\n",
      "  return f(*args, **kwargs)\n"
     ]
    },
    {
     "data": {
      "text/plain": [
       "LogisticRegression()"
      ]
     },
     "execution_count": 77,
     "metadata": {},
     "output_type": "execute_result"
    }
   ],
   "source": [
    "Model.fit(X_train,y_train)"
   ]
  },
  {
   "cell_type": "code",
   "execution_count": 78,
   "id": "61936681",
   "metadata": {
    "ExecuteTime": {
     "end_time": "2023-08-23T16:59:47.361651Z",
     "start_time": "2023-08-23T16:59:47.336957Z"
    }
   },
   "outputs": [],
   "source": [
    "#Accuracy of X traning model prediction\n",
    "\n",
    "X_train_prediction=Model.predict(X_train)\n",
    "Trainning_accuracy=accuracy_score(X_train_prediction,y_train)"
   ]
  },
  {
   "cell_type": "code",
   "execution_count": 79,
   "id": "5d3f4634",
   "metadata": {
    "ExecuteTime": {
     "end_time": "2023-08-23T16:59:47.393373Z",
     "start_time": "2023-08-23T16:59:47.370263Z"
    }
   },
   "outputs": [
    {
     "data": {
      "text/plain": [
       "0.5040125"
      ]
     },
     "execution_count": 79,
     "metadata": {},
     "output_type": "execute_result"
    }
   ],
   "source": [
    "Trainning_accuracy"
   ]
  },
  {
   "cell_type": "code",
   "execution_count": 80,
   "id": "6bdfb12f",
   "metadata": {
    "ExecuteTime": {
     "end_time": "2023-08-23T16:59:47.425062Z",
     "start_time": "2023-08-23T16:59:47.394580Z"
    }
   },
   "outputs": [
    {
     "data": {
      "text/plain": [
       "0.50185"
      ]
     },
     "execution_count": 80,
     "metadata": {},
     "output_type": "execute_result"
    }
   ],
   "source": [
    "#Accuracy of X test model prediction \n",
    "\n",
    "X_test_prediction=Model.predict(X_test)\n",
    "Test_accuracy=accuracy_score(X_test_prediction,y_test)\n",
    "Test_accuracy"
   ]
  },
  {
   "cell_type": "code",
   "execution_count": 81,
   "id": "7d81f3d4",
   "metadata": {
    "ExecuteTime": {
     "end_time": "2023-08-23T17:00:03.843514Z",
     "start_time": "2023-08-23T16:59:47.429351Z"
    }
   },
   "outputs": [
    {
     "name": "stderr",
     "output_type": "stream",
     "text": [
      "C:\\Users\\dell\\anaconda3\\lib\\site-packages\\sklearn\\model_selection\\_search.py:918: UserWarning: One or more of the test scores are non-finite: [      nan 0.50275         nan 0.5026875       nan 0.5026625       nan\n",
      " 0.50265         nan 0.50265         nan 0.50265  ]\n",
      "  warnings.warn(\n",
      "C:\\Users\\dell\\anaconda3\\lib\\site-packages\\sklearn\\utils\\validation.py:63: DataConversionWarning: A column-vector y was passed when a 1d array was expected. Please change the shape of y to (n_samples, ), for example using ravel().\n",
      "  return f(*args, **kwargs)\n"
     ]
    },
    {
     "name": "stdout",
     "output_type": "stream",
     "text": [
      "Best Hyperparameters: {'C': 0.001, 'penalty': 'l2'}\n",
      "\n",
      "Accuracy: 0.50315\n",
      "\n",
      "Confusion Matrix:\n",
      " [[6313 3766]\n",
      " [6171 3750]]\n",
      "\n",
      "Classification Report:\n",
      "               precision    recall  f1-score   support\n",
      "\n",
      "           0       0.51      0.63      0.56     10079\n",
      "           1       0.50      0.38      0.43      9921\n",
      "\n",
      "    accuracy                           0.50     20000\n",
      "   macro avg       0.50      0.50      0.49     20000\n",
      "weighted avg       0.50      0.50      0.50     20000\n",
      "\n"
     ]
    }
   ],
   "source": [
    "#Tuning the model performance\n",
    "\n",
    "from sklearn.model_selection import GridSearchCV\n",
    "from sklearn.metrics import confusion_matrix, classification_report\n",
    "# Define hyperparameters to tune\n",
    "param_grid = {\n",
    "    'C': [0.001, 0.01, 0.1, 1, 10, 100],  # Inverse of regularization strength\n",
    "    'penalty': ['l1', 'l2'],  # Regularization type\n",
    "}\n",
    "\n",
    "# Create GridSearchCV to find the best hyperparameters using cross-validation\n",
    "grid_search = GridSearchCV(Model, param_grid, cv=5, scoring='accuracy', n_jobs=-1)\n",
    "\n",
    "# Fit the grid search to the data\n",
    "grid_search.fit(X_train, y_train)\n",
    "\n",
    "# Get the best hyperparameters\n",
    "best_params = grid_search.best_params_\n",
    "best_model = grid_search.best_estimator_\n",
    "\n",
    "# Predict on the test data using the best model\n",
    "y_pred = best_model.predict(X_test)\n",
    "\n",
    "# Evaluate the best model\n",
    "accuracy = accuracy_score(y_test, y_pred)\n",
    "confusion = confusion_matrix(y_test, y_pred)\n",
    "classification_rep = classification_report(y_test, y_pred)\n",
    "\n",
    "print(\"Best Hyperparameters:\", best_params)\n",
    "print(\"\\nAccuracy:\", accuracy)\n",
    "print(\"\\nConfusion Matrix:\\n\", confusion)\n",
    "print(\"\\nClassification Report:\\n\", classification_rep)"
   ]
  },
  {
   "cell_type": "code",
   "execution_count": 82,
   "id": "ab6f5d52",
   "metadata": {
    "ExecuteTime": {
     "end_time": "2023-08-23T17:00:03.904889Z",
     "start_time": "2023-08-23T17:00:03.866046Z"
    }
   },
   "outputs": [
    {
     "name": "stdout",
     "output_type": "stream",
     "text": [
      "THE CUSTOMER IS CONNECTED WITH SERVICE\n"
     ]
    }
   ],
   "source": [
    "#Model deployment\n",
    "\n",
    "input_data=[36,3,97.94,297,0,3]\n",
    "input_data_numpy_array=np.asarray(input_data)\n",
    "\n",
    "input_data_reshape=input_data_numpy_array.reshape(1,-1)\n",
    "prediction=Model.predict(input_data_reshape)\n",
    "prediction\n",
    "\n",
    "if(prediction[0]==0):\n",
    "    print(\"THE CUSTOMER HAS STOPPED USING SERVICE\")\n",
    "else:\n",
    "    print(\"THE CUSTOMER IS CONNECTED WITH SERVICE\")\n"
   ]
  },
  {
   "cell_type": "code",
   "execution_count": null,
   "id": "62152013",
   "metadata": {},
   "outputs": [],
   "source": []
  }
 ],
 "metadata": {
  "kernelspec": {
   "display_name": "Python 3",
   "language": "python",
   "name": "python3"
  },
  "language_info": {
   "codemirror_mode": {
    "name": "ipython",
    "version": 3
   },
   "file_extension": ".py",
   "mimetype": "text/x-python",
   "name": "python",
   "nbconvert_exporter": "python",
   "pygments_lexer": "ipython3",
   "version": "3.8.8"
  }
 },
 "nbformat": 4,
 "nbformat_minor": 5
}
